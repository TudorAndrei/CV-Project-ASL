{
 "cells": [
  {
   "cell_type": "code",
   "execution_count": 1,
   "id": "dfe97e4f",
   "metadata": {},
   "outputs": [],
   "source": [
    "import cv2\n",
    "import torch\n",
    "BLACK = (255,255,255)\n",
    "font = cv2.FONT_HERSHEY_SIMPLEX\n",
    "font_size = 1.1\n",
    "font_color = BLACK\n",
    "font_thickness = 2"
   ]
  },
  {
   "cell_type": "code",
   "execution_count": 2,
   "id": "7917eb04",
   "metadata": {},
   "outputs": [
    {
     "name": "stderr",
     "output_type": "stream",
     "text": [
      "Using cache found in /home/tudor/.cache/torch/hub/ultralytics_yolov5_master\n",
      "YOLOv5 🚀 2021-10-20 torch 1.9.1+cu102 CUDA:0 (GeForce GTX 1050 Ti with Max-Q Design, 4042.375MB)\n",
      "\n",
      "Fusing layers... \n",
      "Model Summary: 213 layers, 7225885 parameters, 0 gradients\n",
      "Adding AutoShape... \n"
     ]
    }
   ],
   "source": [
    "model = torch.hub.load(\"ultralytics/yolov5\", \"yolov5s\")"
   ]
  },
  {
   "cell_type": "code",
   "execution_count": 3,
   "id": "90dd9723",
   "metadata": {},
   "outputs": [],
   "source": [
    "vid = cv2.VideoCapture(0)"
   ]
  },
  {
   "cell_type": "code",
   "execution_count": 4,
   "id": "85b3995b",
   "metadata": {},
   "outputs": [],
   "source": []
  },
  {
   "cell_type": "code",
   "execution_count": 5,
   "id": "4a18ce97",
   "metadata": {},
   "outputs": [],
   "source": [
    "image_rgb = cv2.cvtColor(frame, cv2.COLOR_RGB2BGR)\n",
    "image = model(image_rgb, size=320)"
   ]
  },
  {
   "cell_type": "code",
   "execution_count": 8,
   "id": "a10fa748",
   "metadata": {},
   "outputs": [],
   "source": [
    "coord = image.xyxy[0].detach().cpu().numpy()\n",
    "names = image.names"
   ]
  },
  {
   "cell_type": "code",
   "execution_count": 9,
   "id": "25d002c2",
   "metadata": {},
   "outputs": [],
   "source": [
    "for (x1, y1, x2, y2, conf, name) in coord:\n",
    "#     print((x1, y1, x2, y2, conf, name))\n",
    "    cv2.rectangle(frame, (int(x1), int(y1)), (int(x2), int(y2)), (255, 245, 67), 2)\n",
    "    cv2.putText(frame, f\"{names[int(name)]} {100*conf:.0f}\", (int(x1), int(y1)), font, font_size, font_color, font_thickness, cv2.LINE_AA)\n"
   ]
  },
  {
   "cell_type": "code",
   "execution_count": 10,
   "id": "469a89e7",
   "metadata": {},
   "outputs": [],
   "source": [
    "cv2.imshow(\"frame\", frame)\n",
    "cv2.waitKey(0)\n",
    "\n",
    "# # Destroy all the windows\n",
    "cv2.destroyAllWindows()\n"
   ]
  },
  {
   "cell_type": "code",
   "execution_count": 11,
   "id": "cfffaeff",
   "metadata": {},
   "outputs": [],
   "source": [
    "vid.release()"
   ]
  },
  {
   "cell_type": "code",
   "execution_count": null,
   "id": "c014c7b9",
   "metadata": {},
   "outputs": [],
   "source": []
  }
 ],
 "metadata": {
  "kernelspec": {
   "display_name": "Python 3 (ipykernel)",
   "language": "python",
   "name": "python3"
  },
  "language_info": {
   "codemirror_mode": {
    "name": "ipython",
    "version": 3
   },
   "file_extension": ".py",
   "mimetype": "text/x-python",
   "name": "python",
   "nbconvert_exporter": "python",
   "pygments_lexer": "ipython3",
   "version": "3.9.7"
  }
 },
 "nbformat": 4,
 "nbformat_minor": 5
}
